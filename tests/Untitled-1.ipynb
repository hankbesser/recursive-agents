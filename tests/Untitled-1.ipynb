{
 "cells": [
  {
   "cell_type": "code",
   "execution_count": 2,
   "id": "48f5a3db",
   "metadata": {},
   "outputs": [
    {
     "name": "stdout",
     "output_type": "stream",
     "text": [
      "=== RUN LOG CONTENTS ===\n",
      "\n",
      "Iteration 1:\n",
      "Draft starts with: The sum of 2 + 2 is 4....\n",
      "Revision starts with: In one of the simplest math problems, when you add...\n",
      "\n",
      "Iteration 2:\n",
      "Draft starts with: In one of the simplest math problems, when you add...\n",
      "Revision starts with: \"2 + 2 equals 4. If you have two apples and add tw...\n",
      "\n",
      "=== COMPARISON ===\n",
      "Iteration 1 revision == Iteration 2 draft? True\n"
     ]
    }
   ],
   "source": [
    "from recursive_companion import GenericCompanion\n",
    "# Create companion with verbose to see what's happening\n",
    "companion = GenericCompanion(llm=\"gpt-4o-mini\", max_loops=2, return_transcript=True)\n",
    "\n",
    "# Run a simple test\n",
    "result, run_log = companion(\"What is 2+2?\")\n",
    "\n",
    "# Print what's in the run log\n",
    "print(\"=== RUN LOG CONTENTS ===\")\n",
    "for i, step in enumerate(run_log, 1):\n",
    "    print(f\"\\nIteration {i}:\")\n",
    "    print(f\"Draft starts with: {step['draft'][:50]}...\")\n",
    "    print(f\"Revision starts with: {step['revision'][:50]}...\")\n",
    "    \n",
    "# Check if draft in iteration 2 matches revision from iteration 1\n",
    "if len(run_log) > 1:\n",
    "    print(f\"\\n=== COMPARISON ===\")\n",
    "    print(f\"Iteration 1 revision == Iteration 2 draft? {run_log[0]['revision'] == run_log[1]['draft']}\")"
   ]
  },
  {
   "cell_type": "code",
   "execution_count": 7,
   "id": "5db27411",
   "metadata": {},
   "outputs": [
    {
     "data": {
      "text/plain": [
       "'\"2 + 2 equals 4. If you have two apples and add two more, you have four apples in total. Understanding simple addition is essential for mastering more complex math concepts.\"'"
      ]
     },
     "execution_count": 7,
     "metadata": {},
     "output_type": "execute_result"
    }
   ],
   "source": [
    "result"
   ]
  },
  {
   "cell_type": "code",
   "execution_count": 13,
   "id": "4f3f8744",
   "metadata": {},
   "outputs": [
    {
     "data": {
      "text/plain": [
       "[{'draft': 'The sum of 2 + 2 is 4.',\n",
       "  'critique': 'The draft response, \"The sum of 2 + 2 is 4,\" is fundamentally accurate but lacks depth, clarity, and engagement. Here’s a detailed critique:\\n\\n1. **Clarity and Engagement:**\\n   - The response is straightforward but could be more engaging. Simply stating the answer may not fully satisfy the reader\\'s curiosity.\\n   - **Suggestion:** Consider adding a brief explanation of why 2 + 2 equals 4, such as \"When you combine two objects with another two objects, you end up with four objects in total.\" This not only clarifies the answer but also makes it more relatable.\\n\\n2. **Completeness:**\\n   - While the answer is technically correct, it lacks any additional context or information that might enhance understanding.\\n   - **Suggestion:** Introduce a context, such as \"In basic arithmetic, adding two and two together gives you four.\" This situates the answer within a broader mathematical framework.\\n\\n3. **Style:**\\n   - The tone is neutral, which is appropriate, but it could benefit from a more conversational or informative style to make it more engaging.\\n   - **Suggestion:** Use a more inviting tone, like, \"If you have two apples and you get two more apples, you will have four apples altogether!\" This approach is friendly and helps visualize the arithmetic operation.\\n\\n4. **Factual Accuracy:**\\n   - There are no factual inaccuracies in the response; however, it might be beneficial to acknowledge that this is one of the most basic math problems to establish its foundation.\\n   - **Suggestion:** You could preface the answer with, \"In one of the simplest math problems,\" which sets the stage for the calculation being discussed.\\n\\n5. **Missing Information:**\\n   - The draft does not consider that the reader may be seeking more than just the answer; they might want to understand basic addition as a concept.\\n   - **Suggestion:** Consider adding a brief introduction or closing statement that encourages further inquiry, such as, \"If you\\'re interested in learning more about addition or other math concepts, feel free to ask!\"\\n\\n**Overall Assessment:**\\nThe draft provides a correct answer but lacks engagement, context, and depth that could enhance the reader\\'s understanding. To improve the response, incorporate explanations that make the arithmetic more relatable and consider a more conversational tone. By addressing these areas, the response will not only answer the question but also enrich the reader\\'s experience and understanding of the concept.',\n",
       "  'revision': \"In one of the simplest math problems, when you add 2 + 2, the result is 4. To visualize this, imagine you have two apples, and then you get two more apples. If you count them all together, you will have four apples in total! If you're curious about addition or other math concepts, feel free to ask!\"},\n",
       " {'draft': \"In one of the simplest math problems, when you add 2 + 2, the result is 4. To visualize this, imagine you have two apples, and then you get two more apples. If you count them all together, you will have four apples in total! If you're curious about addition or other math concepts, feel free to ask!\",\n",
       "  'critique': 'The draft response contains several strengths, but there are also areas for improvement. Here’s a detailed critique:\\n\\n1. **Clarity and Directness**: \\n   - The response begins with a lengthy phrase, \"In one of the simplest math problems,\" which could be shortened to enhance clarity. \\n   - **Suggestion**: Start directly with the answer: “2 + 2 equals 4.” This immediately addresses the question without unnecessary preamble.\\n\\n2. **Visual Aid Example**: \\n   - The apple example is a good way to visualize addition; however, it may detract from the direct answer by introducing extra steps that could confuse the reader.\\n   - **Suggestion**: Consider keeping the example brief. For instance, \"If you have two apples and add two more, you will have four apples total.\" This retains the illustrative nature while remaining concise.\\n\\n3. **Relevance of Additional Information**: \\n   - The mention of \"curiosity about addition or other math concepts\" is not necessary in this context. The original request was straightforward, and additional information could be seen as extraneous.\\n   - **Suggestion**: Remove the last sentence or replace it with a more relevant follow-up, such as, \"This is a fundamental concept in mathematics.\"\\n\\n4. **Tone and Style**: \\n   - The tone is friendly and approachable, which is positive. However, the use of \"you will\" in the final sentence can come off as slightly patronizing in a straightforward math context.\\n   - **Suggestion**: Use a more neutral tone by rephrasing to \"you have\" instead of \"you will have\" to maintain a more factual tone.\\n\\n5. **Completeness**: \\n   - The response does not address the possibility of why someone might ask the question or provide context for the importance of learning basic addition.\\n   - **Suggestion**: A brief statement about the importance of mastering basic math skills could enhance completeness. For example, \"Understanding simple addition is essential for more complex math.\"\\n\\nOverall Assessment: The draft effectively answers the question but could benefit from a more direct approach, streamlined examples, and a focus on the core concept without added commentary. A revised version could succinctly present the math problem’s solution, maintaining an appropriate tone while ensuring clarity and relevance. \\n\\n**Suggested Revision**:\\n\"2 + 2 equals 4. If you have two apples and add two more, you have four apples in total. Understanding simple addition is essential for mastering more complex math concepts.\"',\n",
       "  'revision': '\"2 + 2 equals 4. If you have two apples and add two more, you have four apples in total. Understanding simple addition is essential for mastering more complex math concepts.\"'}]"
      ]
     },
     "execution_count": 13,
     "metadata": {},
     "output_type": "execute_result"
    }
   ],
   "source": [
    "run_log"
   ]
  },
  {
   "cell_type": "code",
   "execution_count": 1,
   "id": "e957a292",
   "metadata": {},
   "outputs": [
    {
     "name": "stdout",
     "output_type": "stream",
     "text": [
      "=== CHECKING IF FINAL ANSWER MATCHES LAST REVISION ===\n",
      "\n",
      "Last revision text:\n",
      "2 + 2 = 4. This is a basic arithmetic operation, one of the four fundamental operations in mathematics: addition, subtraction, multiplication, and division. For example, if you have 2 apples and you get 2 more, you’ll have a total of 4 apples. Similarly, if you have 2 oranges and buy 2 more, you’ll also have 4 fruits altogether! Understanding simple operations like this is essential for building a strong foundation in mathematics.\n",
      "\n",
      "Final answer text:\n",
      "2 + 2 = 4. This is a basic arithmetic operation, one of the four fundamental operations in mathematics: addition, subtraction, multiplication, and division. For example, if you have 2 apples and you get 2 more, you’ll have a total of 4 apples. Similarly, if you have 2 oranges and buy 2 more, you’ll also have 4 fruits altogether! Understanding simple operations like this is essential for building a strong foundation in mathematics.\n",
      "\n",
      "✅ CORRECT: Final answer EQUALS last revision\n",
      "\n",
      "=== ALL REVISIONS ===\n",
      "\n",
      "Iteration 1 revision:\n",
      "In basic arithmetic, adding 2 and 2 together gives you 4. This fundamental operation is one of the four basic mathematical operations and is used in everyday situations, such as counting objects. For example, if you have 2 apples and you receive 2 more, you will have a total of 4 apples.\n",
      "\n",
      "Iteration 2 revision:\n",
      "2 + 2 = 4. This is a basic arithmetic operation, one of the four fundamental operations in mathematics: addition, subtraction, multiplication, and division. For example, if you have 2 apples and you get 2 more, you’ll have a total of 4 apples. Similarly, if you have 2 oranges and buy 2 more, you’ll also have 4 fruits altogether! Understanding simple operations like this is essential for building a strong foundation in mathematics.\n",
      "\n",
      "Final answer returned by function:\n",
      "2 + 2 = 4. This is a basic arithmetic operation, one of the four fundamental operations in mathematics: addition, subtraction, multiplication, and division. For example, if you have 2 apples and you get 2 more, you’ll have a total of 4 apples. Similarly, if you have 2 oranges and buy 2 more, you’ll also have 4 fruits altogether! Understanding simple operations like this is essential for building a strong foundation in mathematics.\n"
     ]
    }
   ],
   "source": [
    "from recursive_companion import GenericCompanion\n",
    "\n",
    "# Create companion with 2 loops\n",
    "companion = GenericCompanion(llm=\"gpt-4o-mini\", max_loops=2, return_transcript=True)\n",
    "\n",
    "# Run a simple test\n",
    "final_answer, run_log = companion(\"What is 2+2?\")\n",
    "\n",
    "print(\"=== CHECKING IF FINAL ANSWER MATCHES LAST REVISION ===\\n\")\n",
    "\n",
    "# Get the last revision from run_log\n",
    "last_revision = run_log[-1][\"revision\"]\n",
    "\n",
    "print(f\"Last revision text:\\n{last_revision}\\n\")\n",
    "print(f\"Final answer text:\\n{final_answer}\\n\")\n",
    "\n",
    "# Check if they're the same\n",
    "if final_answer == last_revision:\n",
    "    print(\"✅ CORRECT: Final answer EQUALS last revision\")\n",
    "else:\n",
    "    print(\"❌ BUG: Final answer is DIFFERENT from last revision!\")\n",
    "    print(f\"\\nDifference found!\")\n",
    "    \n",
    "# Also show all revisions for clarity\n",
    "print(\"\\n=== ALL REVISIONS ===\")\n",
    "for i, step in enumerate(run_log):\n",
    "    print(f\"\\nIteration {i+1} revision:\\n{step['revision']}\")\n",
    "    \n",
    "print(f\"\\nFinal answer returned by function:\\n{final_answer}\")"
   ]
  },
  {
   "cell_type": "code",
   "execution_count": null,
   "id": "93bd746d",
   "metadata": {},
   "outputs": [],
   "source": []
  }
 ],
 "metadata": {
  "kernelspec": {
   "display_name": "recursive",
   "language": "python",
   "name": "python3"
  },
  "language_info": {
   "codemirror_mode": {
    "name": "ipython",
    "version": 3
   },
   "file_extension": ".py",
   "mimetype": "text/x-python",
   "name": "python",
   "nbconvert_exporter": "python",
   "pygments_lexer": "ipython3",
   "version": "3.13.3"
  }
 },
 "nbformat": 4,
 "nbformat_minor": 5
}
