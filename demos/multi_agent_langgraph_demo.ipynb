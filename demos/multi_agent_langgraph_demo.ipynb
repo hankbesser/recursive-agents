{
 "cells": [
  {
   "cell_type": "code",
   "execution_count": 1,
   "id": "0ae7758e",
   "metadata": {},
   "outputs": [],
   "source": [
    "# SPDX-License-Identifier: MIT\n",
    "#\n",
    "# Copyright (c) [2025] [Henry Besser]\n",
    "#\n",
    "# This software is licensed under the MIT License.\n",
    "# See the LICENSE file in the project root for the full license text.\n",
    "\n",
    "# demos/multi_agent_langgraph_demo.ipynb"
   ]
  },
  {
   "cell_type": "markdown",
   "id": "a8a6cadf",
   "metadata": {},
   "source": [
    "# Multi-Agent Demo: LangGraph + Recursive Agents\n",
    "\n",
    "## Combining Workflow Orchestration with Agent Introspection\n",
    "\n",
    "This notebook demonstrates how Recursive Agents agents integrate with LangGraph workflows. Since RA agents are callables, they work seamlessly as LangGraph nodes while preserving their thinking transparency.\n",
    "\n",
    "### What This Demo Shows:\n",
    "\n",
    "1. **Integration**: How RA agents become LangGraph nodes\n",
    "2. **Workflow Execution**: Running agents through LangGraph's orchestration\n",
    "3. **Debug Visibility**: What LangGraph's debug stream provides\n",
    "4. **Thinking History**: How RA's introspection remains accessible\n",
    "\n",
    "The key insight: you get both workflow management and agent reasoning visibility without choosing between them.\n",
    "\n",
    "For detailed analysis, see [`docs/LangGraph_RA_comp.md`](../docs/LangGraph_RA_comp.md)"
   ]
  },
  {
   "cell_type": "code",
   "execution_count": 2,
   "id": "30763141",
   "metadata": {},
   "outputs": [
    {
     "data": {
      "text/plain": [
       "True"
      ]
     },
     "execution_count": 2,
     "metadata": {},
     "output_type": "execute_result"
    }
   ],
   "source": [
    "#from dotenv import load_dotenv\n",
    "#load_dotenv()"
   ]
  },
  {
   "cell_type": "code",
   "execution_count": 3,
   "id": "ffde8e29",
   "metadata": {},
   "outputs": [
    {
     "name": "stdout",
     "output_type": "stream",
     "text": [
      "OpenAI API Key status: Loaded\n"
     ]
    }
   ],
   "source": [
    "import os\n",
    "api_key_status = \"Loaded\" if os.getenv(\"OPENAI_API_KEY\") else \"NOT FOUND - Check your .env file and environment.\"\n",
    "print(f\"OpenAI API Key status: {api_key_status}\")"
   ]
  },
  {
   "cell_type": "code",
   "execution_count": 5,
   "id": "8ec4f753",
   "metadata": {},
   "outputs": [],
   "source": [
    "# imports\n",
    "from IPython.display import Image, display, Markdown\n",
    "from langchain_core.runnables import RunnableLambda\n",
    "from langgraph.graph import StateGraph\n",
    "from typing import TypedDict\n",
    "from recursive_agents.base import MarketingCompanion, BugTriageCompanion, StrategyCompanion"
   ]
  },
  {
   "cell_type": "code",
   "execution_count": 6,
   "id": "1fb86558",
   "metadata": {},
   "outputs": [],
   "source": [
    "# different models for differents domains\n",
    "llm_fast  = \"gpt-4o-mini\"\n",
    "llm_deep  = \"gpt-4.1-mini\" "
   ]
  },
  {
   "cell_type": "code",
   "execution_count": 7,
   "id": "da7e0931",
   "metadata": {},
   "outputs": [],
   "source": [
    "# create the agents\n",
    "# tip read the doctring by hovering over the class\n",
    "mkt   = MarketingCompanion(llm=llm_fast, temperature=0.8, max_loops=3, similarity_threshold=0.96)\n",
    "eng   = BugTriageCompanion(llm=llm_deep, temperature=0.3)\n",
    "plan = StrategyCompanion(llm=llm_fast)"
   ]
  },
  {
   "cell_type": "code",
   "execution_count": 8,
   "id": "463b02e2",
   "metadata": {},
   "outputs": [],
   "source": [
    "# RA companions work as drop-in LangGraph nodes!\n",
    "# The __call__ method makes them compatible with RunnableLambda\n",
    "# No special integration needed - they just work together\n",
    "\n",
    "mkt_node  = RunnableLambda(mkt)          # Marketing companion → LangGraph node\n",
    "eng_node  = RunnableLambda(eng)          # Engineering companion → LangGraph node\n",
    "\n",
    "# Now these nodes have BOTH:\n",
    "# - LangGraph's orchestration capabilities (streaming, retries, etc.)\n",
    "# - RA's thinking transparency (critique/revision history)"
   ]
  },
  {
   "cell_type": "code",
   "execution_count": 9,
   "id": "76cb39cf",
   "metadata": {},
   "outputs": [],
   "source": [
    "# merge-lambda joins text views into one string\n",
    "# note: LangGraph passes the entire upstream-state dict to a node.\n",
    "# with out this function, two upstream nodes are piped straight into strategy, \n",
    "# so plan_node will receive a Python dict like {\"engineering\": \"...\", \"marketing\": \"...\"}.\n",
    "# That's fine if your StrategyCompanion prompt expects that JSON blob, \n",
    "# but most of the time you'll want to concatenate the two strings first.\n",
    "\n",
    "merge_node = RunnableLambda(\n",
    "    lambda d: f\"### Marketing\\n{d['marketing']}\\n\\n### Engineering\\n{d['engineering']}\"\n",
    ")\n",
    "plan_node  = RunnableLambda(plan)\n",
    "\n",
    "# Define the state schema for LangGraph\n",
    "class GraphState(TypedDict):\n",
    "    input: str\n",
    "    marketing: str\n",
    "    engineering: str\n",
    "    merged: str\n",
    "    final_plan: str\n",
    "\n",
    "# Inline LangGraph example (fan-in)\n",
    "# No extra prompts, no schema gymnastics: simply passing text between the callables the classes already expose.\n",
    "graph = StateGraph(GraphState)\n",
    "graph.add_node(\"marketing_agent\",    lambda state: {\"marketing\": mkt_node.invoke(state[\"input\"])})\n",
    "graph.add_node(\"engineering_agent\",  lambda state: {\"engineering\": eng_node.invoke(state[\"input\"])})\n",
    "graph.add_node(\"merge_agent\",        lambda state: {\"merged\": merge_node.invoke(state)})\n",
    "graph.add_node(\"strategy_agent\",     lambda state: {\"final_plan\": plan_node.invoke(state[\"merged\"])})\n",
    "\n",
    "graph.add_edge(\"marketing_agent\", \"merge_agent\")\n",
    "graph.add_edge(\"engineering_agent\", \"merge_agent\")\n",
    "graph.add_edge(\"merge_agent\", \"strategy_agent\")\n",
    "\n",
    "graph.add_edge(\"__start__\", \"marketing_agent\")\n",
    "graph.add_edge(\"__start__\", \"engineering_agent\")\n",
    "graph.set_finish_point(\"strategy_agent\")\n",
    "workflow = graph.compile()"
   ]
  },
  {
   "cell_type": "code",
   "execution_count": 10,
   "id": "0e326c53",
   "metadata": {},
   "outputs": [
    {
     "data": {
      "image/png": "[encoded data removed]",
      "text/plain": [
       "<IPython.core.display.Image object>"
      ]
     },
     "metadata": {},
     "output_type": "display_data"
    }
   ],
   "source": [
    "#display the graph\n",
    "display(Image(workflow.get_graph().draw_mermaid_png()))"
   ]
  },
  {
   "cell_type": "markdown",
   "id": "9rksmscmbsi",
   "metadata": {},
   "source": [
    "## Part 1: LangGraph Debug Stream\n",
    "\n",
    "### Understanding LangGraph's Structured Debug Data\n",
    "\n",
    "LangGraph provides workflow-level debugging through its debug stream. Let's run the workflow with `stream_mode=\"debug\"` to capture structured debug events.\n",
    "\n",
    "**What you'll see**: Task scheduling, execution order, and results - useful for understanding workflow orchestration."
   ]
  },
  {
   "cell_type": "code",
   "execution_count": null,
   "id": "258ed155",
   "metadata": {},
   "outputs": [],
   "source": [
    "# Capture debug stream data with stream_mode=\"debug\"\n",
    "debug_chunks = []\n",
    "print(\"Running workflow with debug mode enabled...\\n\")\n",
    "\n",
    "# Note: stream_mode=\"debug\" returns structured debug data\n",
    "for chunk in workflow.stream(\n",
    "    {\"input\": \"App ratings fell to 3.2★ and uploads crash on iOS 17.2. Diagnose & propose next steps.\"},\n",
    "    stream_mode=\"debug\"\n",
    "):\n",
    "    debug_chunks.append(chunk)  # Now we can capture structured data!\n",
    "    print(chunk)  # Also print for visibility\n",
    "    print(\"\\n\")"
   ]
  },
  {
   "cell_type": "markdown",
   "id": "y31qd87f2r",
   "metadata": {},
   "source": [
    "### Debug Output Analysis\n",
    "\n",
    "Now let's see what we captured in our debug chunks:\n",
    "\n",
    "```python\n",
    "print(f\"Total debug chunks captured: {len(debug_chunks)}\")\n",
    "print(f\"Chunk types: {set(chunk.get('type') for chunk in debug_chunks if 'type' in chunk)}\")\n",
    "```"
   ]
  },
  {
   "cell_type": "code",
   "execution_count": 17,
   "id": "5yiqfitxnwd",
   "metadata": {},
   "outputs": [
    {
     "name": "stdout",
     "output_type": "stream",
     "text": [
      "Chunk types: {'task_result', 'task'}\n",
      "\n",
      "Task results found: 4\n",
      "  - marketing_agent\n",
      "  - engineering_agent\n",
      "  - merge_agent\n",
      "  - strategy_agent\n"
     ]
    }
   ],
   "source": [
    "# Analyze what we capturedprint(\"Total debug chunks captured: {len(debug_chunks)}\")\n",
    "print(f\"Chunk types: {set(chunk.get('type') for chunk in debug_chunks if 'type' in chunk)}\")\n",
    "\n",
    "# Extract task results\n",
    "task_results = [chunk for chunk in debug_chunks if chunk.get('type') == 'task_result']\n",
    "print(f\"\\nTask results found: {len(task_results)}\")\n",
    "for result in task_results:\n",
    "    print(f\"  - {result.get('payload', {}).get('name', 'unknown')}\")\n",
    "\n",
    "# Add this to print the actual text\n",
    "payload = result.get('payload', {})\n",
    "if 'result' in payload and payload['result']:\n",
    "    text = payload['result'][0][1]"
   ]
  },
  {
   "cell_type": "markdown",
   "id": "wk7h35tj92",
   "metadata": {},
   "source": [
    "### Extracting Results from Debug Chunks\n",
    "\n",
    "Let's extract the actual agent outputs from the debug stream:"
   ]
  },
  {
   "cell_type": "code",
   "execution_count": 16,
   "id": "vatkq28jen",
   "metadata": {},
   "outputs": [
    {
     "name": "stdout",
     "output_type": "stream",
     "text": [
      "Extracted agent outputs from debug stream:\n",
      "\n",
      "marketing_agent:\n",
      "The app's rating has decreased to 3.2 stars, primarily due to upload crashes specifically occurring on iOS 17.2. This situation highlights several underlying issues related to app performance and user...\n",
      "\n",
      "engineering_agent:\n",
      "**Executive Summary**  \n",
      "The app’s average rating has dropped to 3.2 stars, primarily due to frequent crashes occurring during user-initiated file uploads on devices running iOS 17.2. These crashes cau...\n",
      "\n",
      "merge_agent:\n",
      "### Marketing\n",
      "The app's rating has decreased to 3.2 stars, primarily due to upload crashes specifically occurring on iOS 17.2. This situation highlights several underlying issues related to app perfor...\n",
      "\n",
      "strategy_agent:\n",
      "### Integrated Overview of Marketing and Engineering Perspectives\n",
      "\n",
      "**Current Situation and Key Issues**\n",
      "\n",
      "Our app's rating has fallen to 3.2 stars, indicating significant user dissatisfaction compared ...\n"
     ]
    }
   ],
   "source": [
    "# Extract results from debug chunks\n",
    "extracted_results = {}\n",
    "\n",
    "for chunk in debug_chunks:\n",
    "    if chunk.get('type') == 'task_result':\n",
    "        payload = chunk.get('payload', {})\n",
    "        agent_name = payload.get('name', 'unknown')\n",
    "        \n",
    "        # Navigate the nested structure to get the result\n",
    "        if 'result' in payload and payload['result']:\n",
    "            # Result is in format: [(key, value)]\n",
    "            result_value = payload['result'][0][1]\n",
    "            extracted_results[agent_name] = result_value\n",
    "\n",
    "# Show what we extracted\n",
    "print(\"Extracted agent outputs from debug stream:\")\n",
    "for agent, output in extracted_results.items():\n",
    "    print(f\"\\n{agent}:\")\n",
    "    print(f\"{output[:200]}...\" if len(output) > 200 else output)"
   ]
  },
  {
   "cell_type": "markdown",
   "id": "yfybxlnu3vq",
   "metadata": {},
   "source": [
    "---\n",
    "\n",
    "## Part 2: Accessing RA's Built-in Introspection\n",
    "\n",
    "#### Note: Running the compiled workflow again to show RA's automatic history tracking\n",
    "\n",
    "Now let's run the workflow normally and access the thinking history that RA agents automatically preserve:"
   ]
  },
  {
   "cell_type": "code",
   "execution_count": 18,
   "id": "9abe8583",
   "metadata": {},
   "outputs": [
    {
     "name": "stdout",
     "output_type": "stream",
     "text": [
      "Workflow completed successfully!\n"
     ]
    }
   ],
   "source": [
    "# Run the workflow again - this time WITHOUT debug mode\n",
    "# This is what you'd typically do in production\n",
    "result = workflow.invoke(\n",
    "    {\"input\": \"App ratings fell to 3.2★ and uploads crash on iOS 17.2. Diagnose & propose next steps.\"}\n",
    ")\n",
    "\n",
    "print(\"Workflow completed successfully!\")"
   ]
  },
  {
   "cell_type": "code",
   "execution_count": 19,
   "id": "b2831002",
   "metadata": {},
   "outputs": [],
   "source": [
    "final = result.get(\"final_plan\", \"\")"
   ]
  },
  {
   "cell_type": "code",
   "execution_count": null,
   "id": "8aa5c4f3",
   "metadata": {},
   "outputs": [],
   "source": [
    "print(\"\\n=== FINAL PLAN ===\\n\")\n",
    "display(Markdown(final))"
   ]
  },
  {
   "cell_type": "code",
   "execution_count": 31,
   "id": "67d89648",
   "metadata": {},
   "outputs": [
    {
     "name": "stdout",
     "output_type": "stream",
     "text": [
      "DEEP INTROSPECTION - What LangGraph can't normally show you - available without any special configuration::\n",
      "\n",
      "================================================================================\n",
      "COMPLETE CONVERGENCE ANALYSIS\n",
      "================================================================================\n",
      "\n",
      "Marketing Companion:\n",
      "  • Model: gpt-4o-mini\n",
      "  • Temperature: 0.8\n",
      "  • Iterations: 2/3\n",
      "  • Similarity threshold: 0.96\n",
      "  • Convergence: Similarity-based (threshold reached)\n",
      "\n",
      "Engineering Companion:\n",
      "  • Model: gpt-4.1-mini\n",
      "  • Temperature: 0.3\n",
      "  • Iterations: 3/3\n",
      "  • Similarity threshold: 0.98\n",
      "  • Convergence: Max iterations reached\n",
      "\n",
      "Strategy Companion:\n",
      "  • Model: gpt-4o-mini\n",
      "  • Temperature: 0.7\n",
      "  • Iterations: 2/3\n",
      "  • Similarity threshold: 0.97\n",
      "  • Convergence: Similarity-based (threshold reached)\n",
      "\n",
      " Strategy's final critique (no parsing needed) (first 300 chars):\n",
      "### Critique of Integrated Overview of Marketing and Engineering Perspectives\n",
      "\n",
      "1. **Clarity and Structure**:\n",
      "   - **Issue**: The overall structure lacks a clear delineation between the sections, making it hard for readers to follow the flow of information. For instance, the transition between \"Key O...\n"
     ]
    }
   ],
   "source": [
    "# === After LangGraph workflow completes ===\n",
    "print(\"DEEP INTROSPECTION - What LangGraph can't normally show you - available without any special configuration::\\n\")\n",
    "# Show why each converged\n",
    "print(\"=\" * 80)\n",
    "print(\"COMPLETE CONVERGENCE ANALYSIS\")\n",
    "print(\"=\" * 80)\n",
    "\n",
    "for name, agent in [(\"Marketing\", mkt), (\"Engineering\", eng), (\"Strategy\", plan)]:\n",
    "    print(f\"\\n{name} Companion:\")\n",
    "    print(f\"  • Model: {agent.llm.model_name}\")\n",
    "    print(f\"  • Temperature: {agent.llm.temperature}\")\n",
    "    print(f\"  • Iterations: {len(agent.run_log)}/{agent.max_loops}\")\n",
    "    print(f\"  • Similarity threshold: {agent.similarity_threshold}\")\n",
    "    \n",
    "    # Determine convergence type\n",
    "    last_critique = agent.run_log[-1]['critique'].lower()\n",
    "    if \"no further improvements\" in last_critique or \"minimal revisions\" in last_critique:\n",
    "        convergence = \"Critique-based (no improvements needed)\"\n",
    "    elif len(agent.run_log) < agent.max_loops:\n",
    "        convergence = \"Similarity-based (threshold reached)\"\n",
    "    else:\n",
    "        convergence = \"Max iterations reached\"\n",
    "    print(f\"  • Convergence: {convergence}\")\n",
    "\n",
    "# Want to see the last critique? Just access it directly!\n",
    "print(\"\\n Strategy's final critique (no parsing needed) (first 300 chars):\")\n",
    "print(f\"{plan.run_log[-1]['critique'][:300]}...\")"
   ]
  },
  {
   "cell_type": "markdown",
   "id": "06pe70pskm8h",
   "metadata": {},
   "source": [
    "### The Complete Thinking History\n",
    "\n",
    "Now let's see what the debug stream couldn't show us - the complete Draft → Critique → Revision cycles for each agent:"
   ]
  },
  {
   "cell_type": "code",
   "execution_count": null,
   "id": "83f670d3",
   "metadata": {},
   "outputs": [],
   "source": [
    "# Show full thinking process for each agent\n",
    "print(\"\\n MARKETING THINKING PROCESS:\")\n",
    "display(Markdown(mkt.transcript_as_markdown()))"
   ]
  },
  {
   "cell_type": "code",
   "execution_count": null,
   "id": "518a7737",
   "metadata": {},
   "outputs": [],
   "source": [
    "print(\"\\n ENGINEERING THINKING PROCESS:\")\n",
    "display(Markdown(eng.transcript_as_markdown()))"
   ]
  },
  {
   "cell_type": "code",
   "execution_count": null,
   "id": "d3f46b10",
   "metadata": {},
   "outputs": [],
   "source": [
    "print(\"\\n STRATEGY SYNTHESIS PROCESS:\")\n",
    "display(Markdown(plan.transcript_as_markdown()))"
   ]
  },
  {
   "cell_type": "markdown",
   "id": "5uyetstz0ux",
   "metadata": {},
   "source": [
    "For detailed analysis see [`docs/LangGraph_RA_comp.md`](../docs/LangGraph_RA_comp.md)"
   ]
  }
 ],
 "metadata": {
  "kernelspec": {
   "display_name": "Python 3 (ipykernel)",
   "language": "python",
   "name": "python3"
  },
  "language_info": {
   "codemirror_mode": {
    "name": "ipython",
    "version": 3
   },
   "file_extension": ".py",
   "mimetype": "text/x-python",
   "name": "python",
   "nbconvert_exporter": "python",
   "pygments_lexer": "ipython3",
   "version": "3.14.0"
  }
 },
 "nbformat": 4,
 "nbformat_minor": 5
}
