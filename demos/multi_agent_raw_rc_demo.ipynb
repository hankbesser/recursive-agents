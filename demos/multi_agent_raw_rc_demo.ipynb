{
 "cells": [
  {
   "cell_type": "code",
   "execution_count": 1,
   "metadata": {},
   "outputs": [],
   "source": [
    "# SPDX-License-Identifier: MIT\n",
    "#\n",
    "# Copyright (c) [2025] [Henry Besser]\n",
    "#\n",
    "# This software is licensed under the MIT License.\n",
    "# See the LICENSE file in the project root for the full license text.\n",
    "\n",
    "# demos/multi_agent_raw_rc_demo.ipynb"
   ]
  },
  {
   "cell_type": "markdown",
   "metadata": {},
   "source": [
    "# Multi-Agent Demo: Pure Recursive Companion\n",
    "\n",
    "## Sequential Orchestration with Full Observability\n",
    "\n",
    "This notebook demonstrates multi-agent workflows using **pure Recursive Companion** without any external orchestration frameworks.\n",
    "\n",
    "### Key Insights:\n",
    "\n",
    "1. **Simplicity**: No orchestration framework needed - just Python function calls\n",
    "2. **Full Transparency**: Every agent's thinking process is immediately accessible\n",
    "3. **Sequential Execution**: Clear, debuggable flow from Marketing → Engineering → Strategy\n",
    "4. **Zero Integration Overhead**: Companions work directly as callables\n",
    "\n",
    "### What You'll See:\n",
    "\n",
    "- How domain-specific agents analyze the same problem from different perspectives\n",
    "- The verbose mode showing real-time critique/revision cycles\n",
    "- Complete introspection into each agent's reasoning\n",
    "- How the Strategy companion synthesizes multiple viewpoints"
   ]
  },
  {
   "cell_type": "code",
   "execution_count": 2,
   "metadata": {},
   "outputs": [
    {
     "name": "stdout",
     "output_type": "stream",
     "text": [
      "OpenAI API Key status: Loaded\n"
     ]
    }
   ],
   "source": [
    "# Check for API key\n",
    "import os\n",
    "api_key_status = \"Loaded\" if os.getenv(\"OPENAI_API_KEY\") else \"NOT FOUND - Check your .env file and environment.\"\n",
    "print(f\"OpenAI API Key status: {api_key_status}\")"
   ]
  },
  {
   "cell_type": "code",
   "execution_count": 3,
   "metadata": {},
   "outputs": [],
   "source": [
    "# Import companions\n",
    "from IPython.display import Markdown, display\n",
    "from recursive_companion.base import MarketingCompanion, BugTriageCompanion, StrategyCompanion"
   ]
  },
  {
   "cell_type": "markdown",
   "metadata": {},
   "source": [
    "##  The Problem Scenario\n",
    "\n",
    "Let's define a realistic multi-faceted problem that requires different domain expertise:"
   ]
  },
  {
   "cell_type": "code",
   "execution_count": 4,
   "metadata": {},
   "outputs": [],
   "source": [
    "# Multi-faceted problem requiring cross-functional analysis\n",
    "problem = (\n",
    "    \"Since the last mobile release, picture uploads crash for many users, \"\n",
    "    \"Instagram engagement is down 30%, and our app-store rating fell to 3.2★. \"\n",
    "    \"Why is this happening and what should we do?\")"
   ]
  },
  {
   "cell_type": "markdown",
   "metadata": {},
   "source": [
    "##  Step 1: Marketing Analysis\n",
    "\n",
    "First, let's get the marketing perspective with verbose mode to see the thinking process:"
   ]
  },
  {
   "cell_type": "code",
   "execution_count": 5,
   "metadata": {},
   "outputs": [
    {
     "name": "stdout",
     "output_type": "stream",
     "text": [
      "Pondering MARKETING ANALYSIS \n",
      "\n"
     ]
    }
   ],
   "source": [
    "# Marketing companion with verbose mode to see real-time thinking\n",
    "mkt = MarketingCompanion(\n",
    "    llm=\"gpt-4o-mini\", \n",
    "    max_loops=3,\n",
    "    similarity_threshold=0.96,\n",
    "    temperature=0.9,     # Higher temp for creative insights\n",
    "    #verbose=True         # Watch the critique/revision cycles if turned !\n",
    ")\n",
    "\n",
    "#print(\" MARKETING ANALYSIS (Verbose Mode On)\\n\")\n",
    "#print(\"=\" * 60)\n",
    "print(\"Pondering MARKETING ANALYSIS \\n\")\n",
    "mkt_view = mkt.loop(problem)"
   ]
  },
  {
   "cell_type": "markdown",
   "metadata": {},
   "source": [
    "### Marketing Convergence Details"
   ]
  },
  {
   "cell_type": "code",
   "execution_count": 6,
   "metadata": {},
   "outputs": [
    {
     "name": "stdout",
     "output_type": "stream",
     "text": [
      "\n",
      " Marketing Analysis Summary:\n",
      "  • Iterations: 2\n",
      "  • Converged: Early\n",
      "\n",
      "Final Marketing View (first 500 chars):\n",
      "The current situation surrounding the Instagram app reveals several interconnected issues following the most recent mobile release. These key market signals indicate a decline in user experience and overall engagement.\n",
      "\n",
      "### Key Issues\n",
      "\n",
      "1. **User Experience Issues**: \n",
      "   - The crashing of picture uploads represents a significant malfunction frustrating users. This ongoing technical failure can lead to decreased engagement with the app and potentially push users to seek alternatives.  \n",
      "   - **Sign...\n"
     ]
    }
   ],
   "source": [
    "print(\"\\n Marketing Analysis Summary:\")\n",
    "print(f\"  • Iterations: {len(mkt.run_log)}\")\n",
    "print(f\"  • Converged: {'Early' if len(mkt.run_log) < mkt.max_loops else 'At max loops'}\")\n",
    "print(\"\\nFinal Marketing View (first 500 chars):\")\n",
    "print(mkt_view[:500] + \"...\" if len(mkt_view) > 500 else mkt_view)"
   ]
  },
  {
   "cell_type": "markdown",
   "metadata": {},
   "source": [
    "## Engineering Analysis\n",
    "\n",
    "Now let's get the technical perspective (without verbose mode for cleaner output):"
   ]
  },
  {
   "cell_type": "code",
   "execution_count": 7,
   "metadata": {},
   "outputs": [
    {
     "name": "stdout",
     "output_type": "stream",
     "text": [
      "\n",
      "🔧 Pondering ENGINEERING ANALYSIS\n",
      "\n",
      "============================================================\n"
     ]
    }
   ],
   "source": [
    "# Engineering companion with different model and lower temperature\n",
    "bug = BugTriageCompanion(\n",
    "    llm=\"gpt-4.1-mini\",   # Higher-context model for technical analysis\n",
    "    temperature=0.25       # Lower temp for precise technical reasoning\n",
    ")\n",
    "\n",
    "print(\"\\n🔧 Pondering ENGINEERING ANALYSIS\\n\")\n",
    "print(\"=\" * 60)\n",
    "bug_view = bug.loop(problem)"
   ]
  },
  {
   "cell_type": "code",
   "execution_count": 8,
   "metadata": {},
   "outputs": [
    {
     "name": "stdout",
     "output_type": "stream",
     "text": [
      "\n",
      "Final Engineering View (first 500 chars):\n",
      "1. Problem Overview  \n",
      "- Since the last mobile release, many users report crashes specifically during picture uploads. Upload failures are among the most frequently mentioned issues, though confirming whether they are the earliest symptom requires further data analysis.  \n",
      "- User engagement related to Instagram content shared through our app’s integration has dropped by approximately 30%. This engagement metric reflects user interactions (likes, comments, shares) with Instagram posts or stories ac...\n"
     ]
    }
   ],
   "source": [
    "print(\"\\nFinal Engineering View (first 500 chars):\")\n",
    "print(bug_view[:500] + \"...\" if len(bug_view) > 500 else bug_view)"
   ]
  },
  {
   "cell_type": "markdown",
   "metadata": {},
   "source": [
    "### Engineering Thinking Process"
   ]
  },
  {
   "cell_type": "code",
   "execution_count": 21,
   "metadata": {},
   "outputs": [
    {
     "name": "stdout",
     "output_type": "stream",
     "text": [
      "\n",
      " Engineering Analysis Summary:\n",
      "  • Iterations: 3\n",
      "  • Final critique: 1. Clarity and Terminology  \n",
      "- The phrase “Instagram engagement” is clarified as user interactions with Instagram posts or stories shared through the app’s integration, which is helpful. However, it w...\n"
     ]
    }
   ],
   "source": [
    "print(\"\\n Engineering Analysis Summary:\")\n",
    "print(f\"  • Iterations: {len(bug.run_log)}\")\n",
    "print(f\"  • Final critique: {bug.run_log[-1]['critique'][:200]}...\")"
   ]
  },
  {
   "cell_type": "code",
   "execution_count": null,
   "metadata": {},
   "outputs": [],
   "source": [
    "# Show the full thinking process\n",
    "print(\"\\n ENGINEERING THINKING PROCESS:\")\n",
    "display(Markdown(bug.transcript_as_markdown()))"
   ]
  },
  {
   "cell_type": "markdown",
   "metadata": {},
   "source": [
    "## Step 3: Strategic Synthesis\n",
    "\n",
    "Finally, let's synthesize both perspectives into an actionable plan:"
   ]
  },
  {
   "cell_type": "code",
   "execution_count": 22,
   "metadata": {},
   "outputs": [
    {
     "name": "stdout",
     "output_type": "stream",
     "text": [
      "COMBINED INPUT FOR STRATEGY first 500 chars:\n",
      "============================================================\n",
      "=== Marketing view ===\n",
      "The current situation surrounding the Instagram app reveals several interconnected issues following the most recent mobile release. These key market signals indicate a decline in user experience and overall engagement.\n",
      "\n",
      "### Key Issues\n",
      "\n",
      "1. **User Experience Issues**: \n",
      "   - The crashing of picture uploads represents a significant malfunction frustrating users. This ongoing technical failure can lead to decreased engagement with the app and potentially push users to seek alte...\n"
     ]
    }
   ],
   "source": [
    "# Prepare combined input for strategy synthesis\n",
    "combined_views = (\n",
    "    \"=== Marketing view ===\\n\"\n",
    "    f\"{mkt_view}\\n\\n\"\n",
    "    \"=== Engineering view ===\\n\"\n",
    "    f\"{bug_view}\\n\\n\"\n",
    "    \"Merge these perspectives and propose next actions.\"\n",
    ")\n",
    "\n",
    "print(\"COMBINED INPUT FOR STRATEGY first 500 chars:\")\n",
    "print(\"=\" * 60)\n",
    "print(combined_views[:500] + \"...\" if len(combined_views) > 500 else combined_views)"
   ]
  },
  {
   "cell_type": "code",
   "execution_count": null,
   "metadata": {},
   "outputs": [
    {
     "name": "stdout",
     "output_type": "stream",
     "text": [
      "\n",
      " Pondering STRATEGIC SYNTHESIS\n",
      "\n",
      "============================================================\n"
     ]
    }
   ],
   "source": [
    "# Strategy companion to synthesize\n",
    "synth = StrategyCompanion(\n",
    "    llm=\"gpt-4o-mini\",\n",
    "    temperature=0.55  # Balanced temperature for synthesis\n",
    ")\n",
    "\n",
    "print(\"\\n Pondering STRATEGIC SYNTHESIS\\n\")\n",
    "print(\"=\" * 60)\n",
    "action_plan = synth.loop(combined_views)\n"
   ]
  },
  {
   "cell_type": "code",
   "execution_count": 23,
   "metadata": {},
   "outputs": [
    {
     "name": "stdout",
     "output_type": "stream",
     "text": [
      "\n",
      " Final STRATEGY SYNTHESIS of Merged Enginering and Marketing views:\n",
      "### Integrated Overview of the Instagram App Situation\n",
      "\n",
      "#### Marketing View Summary:\n",
      "1. **User Experience Issues**: Users are experiencing frequent upload crashes, which have been reported by a significant number of users. This technical malfunction frustrates users and is likely to lead to decreased engagement and a search for alternative platforms.\n",
      "   - **Frequency**: While specific data on crash frequency is still being gathered, preliminary reports indicate a high incidence of upload failure...\n"
     ]
    }
   ],
   "source": [
    "print(\"\\n Final STRATEGY SYNTHESIS of Merged Enginering and Marketing views:\")\n",
    "print(action_plan[:500] + \"...\" if len(action_plan) > 500 else action_plan)"
   ]
  },
  {
   "cell_type": "code",
   "execution_count": null,
   "metadata": {},
   "outputs": [],
   "source": [
    "print(\"\\n Final STRATEGY SYNTHESIS of Merged Enginering and Marketing views:\")\n",
    "display(Markdown(action_plan))"
   ]
  },
  {
   "cell_type": "markdown",
   "metadata": {},
   "source": [
    "## Complete Convergence Analysis"
   ]
  },
  {
   "cell_type": "code",
   "execution_count": 20,
   "metadata": {},
   "outputs": [
    {
     "name": "stdout",
     "output_type": "stream",
     "text": [
      "================================================================================\n",
      "COMPLETE CONVERGENCE ANALYSIS\n",
      "================================================================================\n",
      "\n",
      "Marketing Companion:\n",
      "  • Model: gpt-4o-mini\n",
      "  • Temperature: 0.9\n",
      "  • Iterations: 2/3\n",
      "  • Similarity threshold: 0.96\n",
      "  • Convergence: Similarity-based (threshold reached)\n",
      "\n",
      "Engineering Companion:\n",
      "  • Model: gpt-4.1-mini\n",
      "  • Temperature: 0.25\n",
      "  • Iterations: 3/3\n",
      "  • Similarity threshold: 0.98\n",
      "  • Convergence: Max iterations reached\n",
      "\n",
      "Strategy Companion:\n",
      "  • Model: gpt-4o-mini\n",
      "  • Temperature: 0.55\n",
      "  • Iterations: 2/3\n",
      "  • Similarity threshold: 0.97\n",
      "  • Convergence: Similarity-based (threshold reached)\n",
      "\n",
      " Strategy's final critique (no parsing needed) (first 300 chars):\n",
      "### Critique of the Draft Response\n",
      "\n",
      "1. **Clarity and Specificity**\n",
      "   - **Issue**: The phrase \"upload failures occur approximately 40% of the time during attempts to upload pictures\" is stated without clear sourcing or context. This figure seems to come out of nowhere and may mislead readers if not ...\n"
     ]
    }
   ],
   "source": [
    "print(\"=\" * 80)\n",
    "print(\"COMPLETE CONVERGENCE ANALYSIS\")\n",
    "print(\"=\" * 80)\n",
    "\n",
    "for name, agent in [(\"Marketing\", mkt), (\"Engineering\", bug), (\"Strategy\", synth)]:\n",
    "    print(f\"\\n{name} Companion:\")\n",
    "    print(f\"  • Model: {agent.llm.model_name}\")\n",
    "    print(f\"  • Temperature: {agent.llm.temperature}\")\n",
    "    print(f\"  • Iterations: {len(agent.run_log)}/{agent.max_loops}\")\n",
    "    print(f\"  • Similarity threshold: {agent.similarity_threshold}\")\n",
    "    \n",
    "    # Determine convergence type\n",
    "    last_critique = agent.run_log[-1]['critique'].lower()\n",
    "    if \"no further improvements\" in last_critique or \"minimal revisions\" in last_critique:\n",
    "        convergence = \"Critique-based (no improvements needed)\"\n",
    "    elif len(agent.run_log) < agent.max_loops:\n",
    "        convergence = \"Similarity-based (threshold reached)\"\n",
    "    else:\n",
    "        convergence = \"Max iterations reached\"\n",
    "    print(f\"  • Convergence: {convergence}\")\n",
    "\n",
    "    # Want to see the last critique? Just access it directly!\n",
    "print(\"\\n Strategy's final critique (no parsing needed) (first 300 chars):\")\n",
    "print(f\"{synth.run_log[-1]['critique'][:300]}...\")"
   ]
  },
  {
   "cell_type": "markdown",
   "metadata": {},
   "source": [
    "## Summary: The Power of Pure RC\n",
    "\n",
    "This demo showcased how Recursive Companion enables sophisticated multi-agent workflows with just simple Python:\n",
    "\n",
    "- **No frameworks required** - Just instantiate companions and call them\n",
    "- **Full observability built-in** - Every agent's thinking is preserved and accessible\n",
    "- **Flexible configuration** - Different models, temperatures, and thresholds per agent\n",
    "- **Beautiful output** - `transcript_as_markdown()` provides publication-ready formatting\n",
    "\n",
    "The three-phase architecture (Draft → Critique → Revision) ensures thoughtful, refined outputs while maintaining complete transparency into the reasoning process."
   ]
  },
  {
   "cell_type": "code",
   "execution_count": 19,
   "metadata": {},
   "outputs": [
    {
     "name": "stdout",
     "output_type": "stream",
     "text": [
      "\n",
      "📈 FINAL STATISTICS:\n",
      "========================================\n",
      "Total iterations across all agents: 7\n",
      "Average iterations per agent: 2.3\n",
      "Total characters processed: ~97,300\n"
     ]
    }
   ],
   "source": [
    "# Summary statistics\n",
    "print(\"\\n📈 FINAL STATISTICS:\")\n",
    "print(\"=\" * 40)\n",
    "total_iterations = len(mkt.run_log) + len(bug.run_log) + len(synth.run_log)\n",
    "print(f\"Total iterations across all agents: {total_iterations}\")\n",
    "print(f\"Average iterations per agent: {total_iterations/3:.1f}\")\n",
    "\n",
    "# Token estimation (rough)\n",
    "total_chars = sum(len(step['draft']) + len(step['critique']) + len(step['revision']) \n",
    "                  for agent in [mkt, bug, synth] \n",
    "                  for step in agent.run_log)\n",
    "print(f\"Total characters processed: ~{total_chars:,}\")"
   ]
  }
 ],
 "metadata": {
  "kernelspec": {
   "display_name": "recursive",
   "language": "python",
   "name": "python3"
  },
  "language_info": {
   "codemirror_mode": {
    "name": "ipython",
    "version": 3
   },
   "file_extension": ".py",
   "mimetype": "text/x-python",
   "name": "python",
   "nbconvert_exporter": "python",
   "pygments_lexer": "ipython3",
   "version": "3.13.3"
  }
 },
 "nbformat": 4,
 "nbformat_minor": 4
}
