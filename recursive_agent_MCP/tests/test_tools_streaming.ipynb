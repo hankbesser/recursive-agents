{
 "cells": [
  {
   "cell_type": "code",
   "execution_count": null,
   "id": "497a8b9a",
   "metadata": {},
   "outputs": [],
   "source": [
    "async def test_draft_tool():\n",
    "    \"\"\"Test the draft tool with a real companion.\"\"\"\n",
    "    \n",
    "    # Create in-memory client\n",
    "    async with Client(mcp) as client:\n",
    "        print(\"Testing draft tool...\\n\")\n",
    "        \n",
    "        # Progress handler to see streaming (fixed signature)\n",
    "        def progress_handler(progress_token, progress, message):\n",
    "            print(message, end=\"\", flush=True)\n",
    "        \n",
    "        # Simple test query\n",
    "        result = await client.call_tool(\"draft\", {\n",
    "            \"params\": {\n",
    "                \"query\": \"What are the main benefits of test-driven development?\",\n",
    "                \"companion_type\": \"generic\"\n",
    "            }\n",
    "        }, progress_handler=progress_handler)\n",
    "        \n",
    "        print(\"\\n\\n✅ Draft generated!\")\n",
    "        print(f\"Result type: {type(result)}\")\n",
    "        \n",
    "        # Access the data correctly\n",
    "        if hasattr(result, 'data'):\n",
    "            print(f\"\\nData type: {type(result.data)}\")\n",
    "            if isinstance(result.data, dict):\n",
    "                print(f\"Session ID: {result.data.get('session_id', 'Not found')}\")\n",
    "                print(f\"Answer preview: {result.data.get('answer', 'Not found')[:200]}...\")\n",
    "        \n",
    "        return result\n",
    "\n",
    "# Run the test\n",
    "draft_result = await test_draft_tool()"
   ]
  }
 ],
 "metadata": {
  "language_info": {
   "name": "python"
  }
 },
 "nbformat": 4,
 "nbformat_minor": 5
}
